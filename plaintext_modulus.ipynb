{
 "cells": [
  {
   "cell_type": "code",
   "execution_count": 1,
   "metadata": {},
   "outputs": [],
   "source": [
    "from math import sqrt, log, ceil, floor\n",
    "from random import randint\n",
    "import timeit\n",
    "import sys"
   ]
  },
  {
   "cell_type": "code",
   "execution_count": 2,
   "metadata": {},
   "outputs": [],
   "source": [
    "\n",
    "def modexp(a,u,n): #a^u mod n\n",
    "    if u == 1:\n",
    "        return (a % n)\n",
    "    r = 1\n",
    "    k = int(ceil(log(u, 2)))\n",
    "    for i in reversed(range(0,k)):\n",
    "        b = u // (2**i)\n",
    "        u = u - b*(2**i)\n",
    "        r = (r*r) % n\n",
    "        if b == 1:\n",
    "            r = (a * r) % n\n",
    "    return r\n",
    "\n",
    "\n",
    "def witness(a,n): # helper for miller_rabin\n",
    "    temp = n - 1\n",
    "    t = 0\n",
    "    while temp % 2 == 0:\n",
    "        temp = temp // 2\n",
    "        t = t+1\n",
    "    u = temp\n",
    "    x = modexp(a,u,n)\n",
    "    for i in range(t):\n",
    "        x2 = (x*x) % n\n",
    "        if x2 == 1 and x != 1 and x != n-1:\n",
    "            return True\n",
    "        x = x2\n",
    "    if x != 1:\n",
    "        return True\n",
    "    return False\n",
    "\n",
    "def miller_rabin(n,s): # returns true if n is probably prime after s tries\n",
    "    if n % 2 == 0:\n",
    "        return False\n",
    "    for i in range(s):\n",
    "        a = randint(1,n-1)\n",
    "        if witness(a,n):\n",
    "            return False\n",
    "    return True\n",
    "\n",
    "def naive(n):\n",
    "    assert n >= 2\n",
    "    if n == 2:\n",
    "        return True\n",
    "    for i in range(2,int(ceil(sqrt(n))) + 1):\n",
    "        if n % i == 0:\n",
    "            return False\n",
    "    return True\n",
    "\n",
    "def is_prime(n):\n",
    "    if n < 1000:\n",
    "        return naive(n)\n",
    "    else:\n",
    "        return miller_rabin(n,5)"
   ]
  },
  {
   "cell_type": "code",
   "execution_count": 3,
   "metadata": {},
   "outputs": [],
   "source": [
    "def find_num(logN):\n",
    "    num = 2**(logN+1) + 1\n",
    "    increment = 2**(logN+1)\n",
    "    for i in range(100):\n",
    "        if is_prime(num):\n",
    "            print(num)\n",
    "        num += increment\n",
    "    # print(num)\n",
    "    # return num"
   ]
  },
  {
   "cell_type": "code",
   "execution_count": 4,
   "metadata": {},
   "outputs": [
    {
     "name": "stdout",
     "output_type": "stream",
     "text": [
      "23068673\n",
      "69206017\n",
      "81788929\n",
      "104857601\n",
      "111149057\n",
      "113246209\n",
      "132120577\n",
      "136314881\n",
      "138412033\n",
      "155189249\n",
      "163577857\n",
      "167772161\n",
      "169869313\n",
      "186646529\n",
      "199229441\n"
     ]
    }
   ],
   "source": [
    "find_num(20)"
   ]
  },
  {
   "cell_type": "code",
   "execution_count": 5,
   "metadata": {},
   "outputs": [
    {
     "name": "stdout",
     "output_type": "stream",
     "text": [
      "77309411329\n",
      "206158430209\n",
      "850403524609\n"
     ]
    }
   ],
   "source": [
    "find_num(32)"
   ]
  },
  {
   "cell_type": "code",
   "execution_count": 6,
   "metadata": {},
   "outputs": [
    {
     "name": "stdout",
     "output_type": "stream",
     "text": [
      "167772161\n",
      "469762049\n",
      "754974721\n",
      "1107296257\n",
      "1224736769\n"
     ]
    }
   ],
   "source": [
    "find_num(23)"
   ]
  },
  {
   "cell_type": "code",
   "execution_count": 7,
   "metadata": {},
   "outputs": [
    {
     "name": "stdout",
     "output_type": "stream",
     "text": [
      "23068673\n",
      "69206017\n",
      "81788929\n",
      "104857601\n",
      "111149057\n",
      "113246209\n",
      "132120577\n",
      "136314881\n",
      "138412033\n",
      "155189249\n",
      "163577857\n",
      "167772161\n",
      "169869313\n",
      "186646529\n",
      "199229441\n"
     ]
    }
   ],
   "source": [
    "find_num(20)"
   ]
  },
  {
   "cell_type": "code",
   "execution_count": 8,
   "metadata": {},
   "outputs": [
    {
     "name": "stdout",
     "output_type": "stream",
     "text": [
      "786433\n",
      "5767169\n",
      "7340033\n",
      "8650753\n",
      "10223617\n",
      "11272193\n",
      "13631489\n",
      "14155777\n",
      "14942209\n",
      "16515073\n",
      "21495809\n",
      "22806529\n",
      "23068673\n",
      "26214401\n"
     ]
    }
   ],
   "source": [
    "find_num(17)"
   ]
  },
  {
   "cell_type": "code",
   "execution_count": 9,
   "metadata": {},
   "outputs": [
    {
     "name": "stdout",
     "output_type": "stream",
     "text": [
      "65537\n",
      "114689\n",
      "147457\n",
      "163841\n",
      "557057\n",
      "638977\n",
      "737281\n",
      "786433\n",
      "1032193\n",
      "1097729\n",
      "1130497\n",
      "1146881\n",
      "1179649\n",
      "1196033\n",
      "1376257\n",
      "1589249\n"
     ]
    }
   ],
   "source": [
    "find_num(13)"
   ]
  },
  {
   "cell_type": "code",
   "execution_count": 10,
   "metadata": {},
   "outputs": [
    {
     "name": "stdout",
     "output_type": "stream",
     "text": [
      "12289\n",
      "18433\n",
      "40961\n",
      "59393\n",
      "61441\n",
      "65537\n",
      "79873\n",
      "83969\n",
      "86017\n",
      "114689\n",
      "120833\n",
      "133121\n",
      "147457\n",
      "151553\n",
      "163841\n",
      "176129\n",
      "184321\n",
      "188417\n",
      "202753\n"
     ]
    }
   ],
   "source": [
    "find_num(10)"
   ]
  }
 ],
 "metadata": {
  "kernelspec": {
   "display_name": "venv_lattigo",
   "language": "python",
   "name": "python3"
  },
  "language_info": {
   "codemirror_mode": {
    "name": "ipython",
    "version": 3
   },
   "file_extension": ".py",
   "mimetype": "text/x-python",
   "name": "python",
   "nbconvert_exporter": "python",
   "pygments_lexer": "ipython3",
   "version": "3.8.10"
  }
 },
 "nbformat": 4,
 "nbformat_minor": 2
}
